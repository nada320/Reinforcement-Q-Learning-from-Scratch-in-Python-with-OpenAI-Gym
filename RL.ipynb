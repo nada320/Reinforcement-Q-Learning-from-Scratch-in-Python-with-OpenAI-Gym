{
  "nbformat": 4,
  "nbformat_minor": 0,
  "metadata": {
    "colab": {
      "name": "RL.ipynb",
      "provenance": []
    },
    "kernelspec": {
      "name": "python3",
      "display_name": "Python 3"
    },
    "language_info": {
      "name": "python"
    }
  },
  "cells": [
    {
      "cell_type": "markdown",
      "source": [
        "#Install liberary"
      ],
      "metadata": {
        "id": "WDb8CBdn5kfe"
      }
    },
    {
      "cell_type": "code",
      "execution_count": 8,
      "metadata": {
        "colab": {
          "base_uri": "https://localhost:8080/"
        },
        "id": "tBxofYiUwMj_",
        "outputId": "06bbfc85-7767-451b-a21a-4c135483b46f"
      },
      "outputs": [
        {
          "output_type": "stream",
          "name": "stdout",
          "text": [
            "Looking in indexes: https://pypi.org/simple, https://us-python.pkg.dev/colab-wheels/public/simple/\n",
            "Requirement already satisfied: cmake in /usr/local/lib/python3.7/dist-packages (3.22.4)\n",
            "Requirement already satisfied: gym[atari] in /usr/local/lib/python3.7/dist-packages (0.17.3)\n",
            "Requirement already satisfied: scipy in /usr/local/lib/python3.7/dist-packages (1.4.1)\n",
            "Requirement already satisfied: numpy>=1.13.3 in /usr/local/lib/python3.7/dist-packages (from scipy) (1.21.6)\n",
            "Requirement already satisfied: pyglet<=1.5.0,>=1.4.0 in /usr/local/lib/python3.7/dist-packages (from gym[atari]) (1.5.0)\n",
            "Requirement already satisfied: cloudpickle<1.7.0,>=1.2.0 in /usr/local/lib/python3.7/dist-packages (from gym[atari]) (1.3.0)\n",
            "Requirement already satisfied: opencv-python in /usr/local/lib/python3.7/dist-packages (from gym[atari]) (4.1.2.30)\n",
            "Requirement already satisfied: Pillow in /usr/local/lib/python3.7/dist-packages (from gym[atari]) (7.1.2)\n",
            "Requirement already satisfied: atari-py~=0.2.0 in /usr/local/lib/python3.7/dist-packages (from gym[atari]) (0.2.9)\n",
            "Requirement already satisfied: six in /usr/local/lib/python3.7/dist-packages (from atari-py~=0.2.0->gym[atari]) (1.15.0)\n",
            "Requirement already satisfied: future in /usr/local/lib/python3.7/dist-packages (from pyglet<=1.5.0,>=1.4.0->gym[atari]) (0.16.0)\n"
          ]
        }
      ],
      "source": [
        "!pip install cmake 'gym[atari]' scipy"
      ]
    },
    {
      "cell_type": "markdown",
      "source": [
        "#Import libraries"
      ],
      "metadata": {
        "id": "IS_petz75gkE"
      }
    },
    {
      "cell_type": "code",
      "source": [
        "from IPython.display import clear_output\n",
        "from time import sleep\n",
        "import random\n",
        "from IPython.display import clear_output\n",
        "import numpy as np\n",
        "import gym\n"
      ],
      "metadata": {
        "id": "3_84Wu29w2tm"
      },
      "execution_count": 9,
      "outputs": []
    },
    {
      "cell_type": "markdown",
      "source": [
        "#Brute Force approach\n",
        "\n",
        "\n",
        "\n",
        "\n"
      ],
      "metadata": {
        "id": "FxSnc4T028fX"
      }
    },
    {
      "cell_type": "code",
      "source": [
        "def SetEnvironment(env):\n",
        "  env.s = 328  # set environment to illustration's state\n",
        "\n",
        "  epochs = 0\n",
        "  penalties, rewards = 0, 0\n",
        "\n",
        "  frames = [] # for animation\n",
        "\n",
        "  done = False\n",
        "\n",
        "  while not done:\n",
        "      action = env.action_space.sample()\n",
        "      state, reward, done, info = env.step(action)\n",
        "\n",
        "      if reward == -10:\n",
        "          penalties += 1\n",
        "      \n",
        "      if reward > 0:\n",
        "        rewards += 1\n",
        "     # Put each rendered frame into dict for animation\n",
        "      frames.append({\n",
        "          'frame': env.render(mode='ansi'),\n",
        "          'state': state,\n",
        "          'action': action,\n",
        "          'reward': reward})\n",
        "\n",
        "      epochs += 1\n",
        "      \n",
        "      \n",
        "  print(\"Timesteps taken: {}\".format(epochs))\n",
        "  print(\"Penalties incurred: {}\".format(penalties))\n",
        "  return frames"
      ],
      "metadata": {
        "id": "0wVTUKUexC_E"
      },
      "execution_count": 10,
      "outputs": []
    },
    {
      "cell_type": "code",
      "source": [
        "def print_frames(frames):\n",
        "    for i, frame in enumerate(frames):\n",
        "        clear_output(wait=True)\n",
        "        print(frame['frame'])\n",
        "        print(f\"Timestep: {i + 1}\")\n",
        "        print(f\"State: {frame['state']}\")\n",
        "        print(f\"Action: {frame['action']}\")\n",
        "        print(f\"Reward: {frame['reward']}\")\n",
        "        sleep(1)"
      ],
      "metadata": {
        "id": "RIIvT5o9xNX7"
      },
      "execution_count": 11,
      "outputs": []
    },
    {
      "cell_type": "markdown",
      "source": [
        "#Training function\n",
        "take hyperparameters alpha, gamma, and epsilon and return quality table(q_table) "
      ],
      "metadata": {
        "id": "D6GdWlL_7PcI"
      }
    },
    {
      "cell_type": "code",
      "source": [
        "def training(alpha,gamma,epsilon,env):\n",
        "  # Initialize the q table\n",
        "  q_table = np.zeros([env.observation_space.n, env.action_space.n])\n",
        "  # For plotting metrics\n",
        "  all_epochs = []\n",
        "  all_penalties = []\n",
        "\n",
        "  for i in range(1, 100001):\n",
        "      state = env.reset()\n",
        "\n",
        "      epochs, penalties, reward, = 0, 0, 0\n",
        "      done = False\n",
        "\n",
        "      if epsilon>0.1:\n",
        "          epsilon -= 0.1*epsilon  \n",
        "      while not done:\n",
        "          if random.uniform(0, 1) < epsilon:\n",
        "              action = env.action_space.sample() # Explore action space\n",
        "          else:\n",
        "              action = np.argmax(q_table[state]) # Exploit learned values\n",
        "\n",
        "          next_state, reward, done, info = env.step(action) \n",
        "          \n",
        "          old_value = q_table[state, action]\n",
        "          next_max = np.max(q_table[next_state])\n",
        "      \n",
        "          new_value = (1 - alpha) * old_value + alpha * (reward + gamma * next_max)\n",
        "          q_table[state, action] = new_value\n",
        "\n",
        "          if reward == -10:\n",
        "              penalties += 1\n",
        "\n",
        "          state = next_state\n",
        "          epochs += 1\n",
        "          \n",
        "      if i % 1000 == 0:  \n",
        "        clear_output(wait=True)\n",
        "        print(f\"Episode: {i}\")\n",
        "        print(\"epsilon\")\n",
        "\n",
        "  print(\"Training finished.\\n\")\n",
        "  return q_table"
      ],
      "metadata": {
        "id": "QJUKe34oxtOq"
      },
      "execution_count": 17,
      "outputs": []
    },
    {
      "cell_type": "markdown",
      "source": [
        "#Evaluate agent's performance after Q-learning"
      ],
      "metadata": {
        "id": "Fdgvc6BG-6TT"
      }
    },
    {
      "cell_type": "code",
      "source": [
        "def Evaluate(q_table,env):\n",
        "  total_epochs, total_penalties = 0, 0\n",
        "  episodes = 1000\n",
        "\n",
        "  for _ in range(episodes):\n",
        "      state = env.reset()\n",
        "      epochs, penalties, reward = 0, 0, 0\n",
        "      \n",
        "      done = False\n",
        "      \n",
        "      while not done:\n",
        "          action = np.argmax(q_table[state])\n",
        "          state, reward, done, info = env.step(action)\n",
        "\n",
        "          if reward == -10:\n",
        "              penalties += 1\n",
        "\n",
        "          epochs += 1\n",
        "\n",
        "      total_penalties += penalties\n",
        "      total_epochs += epochs\n",
        "\n",
        "  print(f\"Results after {episodes} episodes:\")\n",
        "  print(f\"Average timesteps per episode: {total_epochs / episodes}\")\n",
        "  print(f\"Average penalties per episode: {total_penalties / episodes}\")\n",
        "  return total_epochs / episodes"
      ],
      "metadata": {
        "id": "54DOeye0xyqI"
      },
      "execution_count": 15,
      "outputs": []
    },
    {
      "cell_type": "code",
      "source": [
        "env = gym.make(\"Taxi-v3\").env\n",
        "Evaluate(training(.1,0.6,.1,env),env)"
      ],
      "metadata": {
        "colab": {
          "base_uri": "https://localhost:8080/"
        },
        "id": "ZXmlJBHq0FXt",
        "outputId": "1bbadb6a-377f-4f52-cb56-6572ff444ace"
      },
      "execution_count": 18,
      "outputs": [
        {
          "output_type": "stream",
          "name": "stdout",
          "text": [
            "Episode: 100000\n",
            "epsilon\n",
            "Training finished.\n",
            "\n",
            "Results after 1000 episodes:\n",
            "Average timesteps per episode: 13.082\n",
            "Average penalties per episode: 0.0\n"
          ]
        },
        {
          "output_type": "execute_result",
          "data": {
            "text/plain": [
              "13.082"
            ]
          },
          "metadata": {},
          "execution_count": 18
        }
      ]
    },
    {
      "cell_type": "code",
      "source": [
        "ls"
      ],
      "metadata": {
        "colab": {
          "base_uri": "https://localhost:8080/"
        },
        "id": "44GQGncMyLrH",
        "outputId": "ceff49a5-d3ca-43df-e51b-32d07b811458"
      },
      "execution_count": 1,
      "outputs": [
        {
          "output_type": "stream",
          "name": "stdout",
          "text": [
            "\u001b[0m\u001b[01;34msample_data\u001b[0m/\n"
          ]
        }
      ]
    },
    {
      "cell_type": "code",
      "source": [
        "\n",
        "\n",
        "            "
      ],
      "metadata": {
        "colab": {
          "base_uri": "https://localhost:8080/"
        },
        "id": "-_El942Mx-Dy",
        "outputId": "567aff36-5b8f-4a9e-fc98-f8a0a4dcc3a3"
      },
      "execution_count": 17,
      "outputs": [
        {
          "output_type": "stream",
          "name": "stdout",
          "text": [
            "Episode: 100000\n",
            "epsilon\n",
            "Training finished.\n",
            "\n",
            "Results after 1000 episodes:\n",
            "Average timesteps per episode: 13.162\n",
            "Average penalties per episode: 0.0\n"
          ]
        }
      ]
    },
    {
      "cell_type": "code",
      "source": [
        "def GridSearch(EnviromentName):\n",
        "    \n",
        "  env = gym.make(EnviromentName).env\n",
        "  alpha=[0.5,0.7,0.9]\n",
        "  gamma=[0.5,0.7,0.9]\n",
        "  epsilon=[0.5,0.7,0.9]\n",
        "  Average_timesteps_per_episode=[]\n",
        "  listOfHyperParameter=[]\n",
        "  for i in alpha:\n",
        "    for j in gamma:\n",
        "      for k in epsilon:\n",
        "        hyperparameters=[i,j,k]\n",
        "        q_table=training(i,j,k,env)\n",
        "        Average_timesteps_per_episode.append(Evaluate(q_table,env))\n",
        "        listOfHyperParameter.append(hyperparameters)\n",
        "  return Average_timesteps_per_episode,listOfHyperParameter        "
      ],
      "metadata": {
        "id": "IzVj-TvkOfF8"
      },
      "execution_count": 31,
      "outputs": []
    },
    {
      "cell_type": "code",
      "source": [
        "l,ll= GridSearch(\"Taxi-v3\")"
      ],
      "metadata": {
        "colab": {
          "base_uri": "https://localhost:8080/"
        },
        "id": "P_ijZcMhZ0gC",
        "outputId": "bbda6eab-0353-48fb-ccde-aef5a4c739bf"
      },
      "execution_count": 32,
      "outputs": [
        {
          "output_type": "stream",
          "name": "stdout",
          "text": [
            "Episode: 100000\n",
            "epsilon\n",
            "Training finished.\n",
            "\n",
            "Results after 1000 episodes:\n",
            "Average timesteps per episode: 12.984\n",
            "Average penalties per episode: 0.0\n"
          ]
        }
      ]
    },
    {
      "cell_type": "code",
      "source": [
        "Best_hyperparameters=ll[l.index(min(l))]"
      ],
      "metadata": {
        "id": "yp0-LimgifU8"
      },
      "execution_count": 33,
      "outputs": []
    },
    {
      "cell_type": "markdown",
      "source": [
        "Best Hyperparameters"
      ],
      "metadata": {
        "id": "JoFG7cxcluBc"
      }
    },
    {
      "cell_type": "code",
      "source": [
        "alpha=Best_hyperparameters[0]\n",
        "gamma=Best_hyperparameters[1]\n",
        "epsilon=Best_hyperparameters[2]\n",
        "print(\"I choice hyperparameters alpha = {} , gamma = {} , epsilon = {} with Average timesteps per episode  {}\".format(alpha,gamma,epsilon,min(l)) )"
      ],
      "metadata": {
        "colab": {
          "base_uri": "https://localhost:8080/"
        },
        "id": "MEXYqN2slprb",
        "outputId": "e5c22f6b-508e-4ffd-defe-e17bd46c5b20"
      },
      "execution_count": 34,
      "outputs": [
        {
          "output_type": "stream",
          "name": "stdout",
          "text": [
            "I choice hyperparameters alpha = 0.5 , gamma = 0.7 , epsilon = 0.5 with Average timesteps per episode  12.956\n"
          ]
        }
      ]
    },
    {
      "cell_type": "code",
      "source": [
        ""
      ],
      "metadata": {
        "id": "Z_dlcF67ogJV"
      },
      "execution_count": null,
      "outputs": []
    }
  ]
}